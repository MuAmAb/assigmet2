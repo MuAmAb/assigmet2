{
 "cells": [
  {
   "cell_type": "code",
   "execution_count": 88,
   "id": "0e5b6c1f",
   "metadata": {},
   "outputs": [
    {
     "name": "stdout",
     "output_type": "stream",
     "text": [
      "done\n"
     ]
    }
   ],
   "source": [
    "from google_play_scraper import app, reviews\n",
    "\n",
    "def scrape_google_play_comments(app_id, output_file):\n",
    "    app_info = app(app_id)\n",
    "    app_title = app_info['title']\n",
    "\n",
    "    with open(output_file, 'w', newline='', encoding='utf-8') as csvfile:\n",
    "        writer = csv.writer(csvfile)\n",
    "        writer.writerow(['Comment'])\n",
    "\n",
    "        review_tuple = reviews(app_id,count=5000,lang='en',country='sa')\n",
    "        review_list = review_tuple[0]\n",
    "        \n",
    "        for review in review_list:\n",
    "            if 'content' in review:\n",
    "                comment = review['content']\n",
    "                writer.writerow([comment])\n",
    "                \n",
    "        print('done')        \n",
    "\n",
    "\n",
    "app_id = 'sa.com.stcpay'\n",
    "output_file = 'assignmet2.csv'\n",
    "scrape_google_play_comments(app_id, output_file)\n"
   ]
  },
  {
   "cell_type": "code",
   "execution_count": 89,
   "id": "a2e27e7a",
   "metadata": {},
   "outputs": [],
   "source": [
    "import csv\n",
    "from nltk.sentiment import SentimentIntensityAnalyzer\n",
    "\n",
    "def analyze_comments(csv_file):\n",
    "    sid = SentimentIntensityAnalyzer()\n",
    "\n",
    "    with open(csv_file, 'r', encoding='utf-8') as csvfile:\n",
    "        reader = csv.reader(csvfile)\n",
    "        header = next(reader)  \n",
    "        header.append('Sentiment')  \n",
    "\n",
    "        rows = []\n",
    "        for row in reader:\n",
    "            comment = row[0]  \n",
    "            scores = sid.polarity_scores(comment)\n",
    "\n",
    "            if scores['compound'] >= 0.05:\n",
    "                sentiment = 'Positive'\n",
    "            elif scores['compound'] <= -0.05:\n",
    "                sentiment = 'Negative'\n",
    "            else:\n",
    "                sentiment = 'Neutral'\n",
    "\n",
    "            row.append(sentiment)  \n",
    "            rows.append(row)\n",
    "\n",
    "    with open(csv_file, 'w', newline='', encoding='utf-8') as csvfile:\n",
    "        writer = csv.writer(csvfile)\n",
    "        writer.writerow(header)\n",
    "        writer.writerows(rows)\n",
    "\n",
    "\n",
    "csv_file = 'assignmet2.csv'\n",
    "analyze_comments(csv_file)\n"
   ]
  },
  {
   "cell_type": "code",
   "execution_count": null,
   "id": "1a0150c6",
   "metadata": {},
   "outputs": [],
   "source": []
  }
 ],
 "metadata": {
  "kernelspec": {
   "display_name": "Python 3 (ipykernel)",
   "language": "python",
   "name": "python3"
  },
  "language_info": {
   "codemirror_mode": {
    "name": "ipython",
    "version": 3
   },
   "file_extension": ".py",
   "mimetype": "text/x-python",
   "name": "python",
   "nbconvert_exporter": "python",
   "pygments_lexer": "ipython3",
   "version": "3.9.13"
  }
 },
 "nbformat": 4,
 "nbformat_minor": 5
}
